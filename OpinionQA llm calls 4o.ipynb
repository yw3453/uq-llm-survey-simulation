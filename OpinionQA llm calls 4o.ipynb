{
 "cells": [
  {
   "cell_type": "code",
   "execution_count": null,
   "metadata": {},
   "outputs": [],
   "source": [
    "import re, json, pickle\n",
    "import pandas as pd\n",
    "import numpy as np\n",
    "from difflib import SequenceMatcher"
   ]
  },
  {
   "cell_type": "code",
   "execution_count": null,
   "metadata": {},
   "outputs": [],
   "source": [
    "good_questions = np.load('Data/OpinionQA/good_questions.npy') # question_id's to use\n",
    "Qs = pd.read_csv('Data/OpinionQA/Qs_to_use.csv') # for the good questions, contains question statement and choices\n",
    "with open('Data/OpinionQA/surveys.pkl', 'rb') as f:\n",
    "    surveys = pickle.load(f) # key: question id, value: survey samples\n",
    "with open('Data/OpinionQA/synthetic_profiles.pkl', 'rb') as f:\n",
    "    synthetic_profiles = pickle.load(f) # key: question id, value: synthetic profiles\n",
    "with open('Data/OpinionQA/choices_to_numeric.json', 'r') as f:\n",
    "    choices_to_numeric = json.load(f) # key: question id, value: choices to numeric mapping\n",
    "\n",
    "# calculate the similarity between two strings\n",
    "def similarity(a, b):\n",
    "    return SequenceMatcher(None, a, b).ratio()"
   ]
  },
  {
   "cell_type": "code",
   "execution_count": null,
   "metadata": {},
   "outputs": [],
   "source": [
    "import openai\n",
    "api_key = '' # insert OpenAI API key here\n",
    "client = openai.OpenAI(api_key = api_key)"
   ]
  },
  {
   "cell_type": "code",
   "execution_count": null,
   "metadata": {},
   "outputs": [
    {
     "name": "stdout",
     "output_type": "stream",
     "text": [
      "[[2]]\n"
     ]
    }
   ],
   "source": [
    "# example of using the OpenAI API to simulate an answer\n",
    "completion = client.chat.completions.create(\n",
    "    model=\"gpt-4o\",\n",
    "    messages=[\n",
    "        {\"role\": \"system\", \"content\": \"You are simulating the behaviors of humans with certain specified characteristics to help with a survey study.\"},\n",
    "        {\n",
    "            \"role\": \"user\",\n",
    "            \"content\": synthetic_profiles[good_questions[0]]['PROMPT'].values[1]\n",
    "        }\n",
    "    ]\n",
    ")\n",
    "\n",
    "print(completion.choices[0].message.content)"
   ]
  },
  {
   "cell_type": "code",
   "execution_count": null,
   "metadata": {},
   "outputs": [
    {
     "name": "stdout",
     "output_type": "stream",
     "text": [
      "Question 384 Answer 49 Done\r"
     ]
    }
   ],
   "source": [
    "# call api to obtain simulated answers\n",
    "synthetic_answers_raw = {}\n",
    "num_of_synthetic_answers = 100\n",
    "for i in range(len(good_questions)):\n",
    "    synthetic_answers_raw[good_questions[i]] = []\n",
    "    for j in range(num_of_synthetic_answers):\n",
    "        completion = client.chat.completions.create(\n",
    "            model=\"gpt-4o\",\n",
    "            messages=[\n",
    "                {\"role\": \"system\", \"content\": \"You are simulating the behaviors of humans with certain specified characteristics to help with a survey study.\"},\n",
    "                {\n",
    "                    \"role\": \"user\",\n",
    "                    \"content\": synthetic_profiles[good_questions[i]]['PROMPT'].values[j]\n",
    "                }\n",
    "            ],\n",
    "            seed = 1\n",
    "        )\n",
    "        synthetic_answers_raw[good_questions[i]].append(completion.choices[0].message.content)\n",
    "        print('Question ' + str(i) + ' Answer ' + str(j) + ' Done', end = '\\r')\n",
    "    \n",
    "    with open('Data/OpinionQA/synthetic answers/raw/synthetic_answers_raw_4o.pkl', 'wb') as f:\n",
    "        pickle.dump(synthetic_answers_raw, f)"
   ]
  },
  {
   "cell_type": "code",
   "execution_count": null,
   "metadata": {},
   "outputs": [],
   "source": [
    "# find all the answers\n",
    "synthetic_answers = {}\n",
    "for i in range(len(good_questions)):\n",
    "    synthetic_answers[good_questions[i]] = []\n",
    "    for j in range(num_of_synthetic_answers):\n",
    "        # use the double brackets to indicate the answer\n",
    "        answer = re.findall(r'\\[\\[(.*?)\\]', synthetic_answers_raw[good_questions[i]][j])\n",
    "        answer = answer[0]\n",
    "        # extract the choice number, if there is any\n",
    "        answer_num = re.findall(r'\\d+', answer)\n",
    "        # if there is no choice number, use the similarity to find the most similar choice\n",
    "        if len(answer_num) == 0:\n",
    "            ans_to_num_i = choices_to_numeric[good_questions[i]]\n",
    "            sims = [similarity(answer, key) for key in ans_to_num_i.keys()]\n",
    "            max_sim_ind = np.argmax(sims)\n",
    "            answer_num = [1, 2, 3, 4, 5][max_sim_ind]\n",
    "        else:\n",
    "            answer_num = answer_num[0]\n",
    "        synthetic_answers[good_questions[i]].append(answer_num)"
   ]
  },
  {
   "cell_type": "code",
   "execution_count": null,
   "metadata": {},
   "outputs": [],
   "source": [
    "# convert the answers to numeric\n",
    "synthetic_answers_numeric = {}\n",
    "num_to_num = {'1': 1, '2': 1/3, '3': -1/3, '4': -1, '5': 0}\n",
    "for i in range(len(good_questions)):\n",
    "    numeric_i = []\n",
    "    for j in range(num_of_synthetic_answers):\n",
    "        numeric_i.append(num_to_num[str(synthetic_answers[good_questions[i]][j])])\n",
    "    synthetic_answers_numeric[good_questions[i]] = numeric_i"
   ]
  },
  {
   "cell_type": "code",
   "execution_count": null,
   "metadata": {},
   "outputs": [],
   "source": [
    "with open('Data/OpinionQA/synthetic answers/clean/synthetic_answers_clean_4o.pkl', 'wb') as f:\n",
    "    pickle.dump(synthetic_answers_numeric, f)"
   ]
  },
  {
   "cell_type": "code",
   "execution_count": null,
   "metadata": {},
   "outputs": [],
   "source": []
  },
  {
   "cell_type": "code",
   "execution_count": null,
   "metadata": {},
   "outputs": [],
   "source": []
  },
  {
   "cell_type": "code",
   "execution_count": null,
   "metadata": {},
   "outputs": [],
   "source": []
  }
 ],
 "metadata": {
  "kernelspec": {
   "display_name": "base",
   "language": "python",
   "name": "python3"
  },
  "language_info": {
   "codemirror_mode": {
    "name": "ipython",
    "version": 3
   },
   "file_extension": ".py",
   "mimetype": "text/x-python",
   "name": "python",
   "nbconvert_exporter": "python",
   "pygments_lexer": "ipython3",
   "version": "3.11.4"
  }
 },
 "nbformat": 4,
 "nbformat_minor": 2
}
