{
 "cells": [
  {
   "cell_type": "code",
   "execution_count": null,
   "metadata": {},
   "outputs": [],
   "source": [
    "import re, json, pickle\n",
    "import numpy as np\n",
    "from difflib import SequenceMatcher"
   ]
  },
  {
   "cell_type": "code",
   "execution_count": null,
   "metadata": {},
   "outputs": [],
   "source": [
    "good_questions = np.load('Data/EEDI/good_questions.npy') # question_id's to use\n",
    "with open('Data/EEDI/good_questions_statement.json', 'r') as f:\n",
    "    good_questions_statement = json.load(f) # key: question_id, value: problem statement\n",
    "with open('Data/EEDI/good_questions_answer.json', 'r') as f:\n",
    "    good_questions_answer = json.load(f) # key: question_id, value: problem answer\n",
    "with open('Data/EEDI/surveys.pkl', 'rb') as f:\n",
    "    surveys = pickle.load(f) # key: question id, value: survey samples\n",
    "with open('Data/EEDI/synthetic_profiles.pkl', 'rb') as f:\n",
    "    synthetic_profiles = pickle.load(f) # key: question id, value: synthetic profiles\n",
    "with open('Data/EEDI/good_questions_answer_to_letter.json', 'r') as f:\n",
    "    good_questions_answer_to_letter = json.load(f) # key: question_id, value: answer to letter mapping\n",
    "\n",
    "# calculate the similarity between two strings\n",
    "def similarity(a, b):\n",
    "    return SequenceMatcher(None, a, b).ratio()"
   ]
  },
  {
   "cell_type": "code",
   "execution_count": null,
   "metadata": {},
   "outputs": [],
   "source": [
    "import openai\n",
    "api_key = '' # insert OpenAI API key here\n",
    "client = openai.OpenAI(api_key = api_key)"
   ]
  },
  {
   "cell_type": "code",
   "execution_count": null,
   "metadata": {},
   "outputs": [
    {
     "name": "stdout",
     "output_type": "stream",
     "text": [
      "I think I might struggle a bit with this problem since it seems a little tricky. But I'll give it my best shot! I think the answer could be that it's **sometimes true**, so I’ll go with that.\n",
      "\n",
      "My answer is [[B]].\n"
     ]
    }
   ],
   "source": [
    "# example of using the OpenAI API to simulate an answer\n",
    "completion = client.chat.completions.create(\n",
    "    model=\"gpt-4o\",\n",
    "    messages=[\n",
    "        {\"role\": \"system\", \"content\": \"You are simulating the behaviors of humans with certain specified characteristics to help with a survey study.\"},\n",
    "        {\n",
    "            \"role\": \"user\",\n",
    "            \"content\": synthetic_profiles[0]['Prompt'].values[0]\n",
    "        }\n",
    "    ]\n",
    ")\n",
    "\n",
    "print(completion.choices[0].message.content)"
   ]
  },
  {
   "cell_type": "code",
   "execution_count": null,
   "metadata": {},
   "outputs": [
    {
     "name": "stdout",
     "output_type": "stream",
     "text": [
      "Question 411 Answer 49 Done\r"
     ]
    }
   ],
   "source": [
    "# call api to obtain simulated answers\n",
    "synthetic_answers_raw = {}\n",
    "num_of_synthetic_answers = 50\n",
    "for i in range(len(good_questions)):\n",
    "    synthetic_answers_raw[int(good_questions[i])] = []\n",
    "    for j in range(num_of_synthetic_answers):\n",
    "        completion = client.chat.completions.create(\n",
    "            model=\"gpt-4o\",\n",
    "            messages=[\n",
    "                {\"role\": \"system\", \"content\": \"You are simulating the behaviors of humans with certain specified characteristics to help with a survey study.\"},\n",
    "                {\n",
    "                    \"role\": \"user\",\n",
    "                    \"content\": synthetic_profiles[int(good_questions[i])]['Prompt'].values[j]\n",
    "                }\n",
    "            ],\n",
    "            seed = 1\n",
    "        )\n",
    "        synthetic_answers_raw[int(good_questions[i])].append(completion.choices[0].message.content)\n",
    "        print('Question ' + str(i) + ' Answer ' + str(j) + ' Done', end = '\\r')\n",
    "    \n",
    "    with open('Data/EEDI/synthetic answers/raw/synthetic_answers_raw_4o.pkl', 'wb') as f:\n",
    "        pickle.dump(synthetic_answers_raw, f)"
   ]
  },
  {
   "cell_type": "code",
   "execution_count": null,
   "metadata": {},
   "outputs": [],
   "source": [
    "# find all the answers from the raw answers\n",
    "synthetic_answers = {}\n",
    "for i in range(len(good_questions)):\n",
    "    synthetic_answers[int(good_questions[i])] = []\n",
    "    for j in range(num_of_synthetic_answers):\n",
    "        # use the double brackets to indicate the answer\n",
    "        answer = re.findall(r'\\[\\[(.*?)\\]', synthetic_answers_raw[int(good_questions[i])][j])\n",
    "        answer = answer[0]\n",
    "        # extract the capital letter, if there is any\n",
    "        answer_letter = re.findall(r'[A-Z]', answer)\n",
    "        # if not found, use similarity to find the most likely answer and the answer letter associated with it\n",
    "        if len(answer_letter) == 0:\n",
    "            ans_to_letter_i = good_questions_answer_to_letter[str(int(good_questions[i]))]\n",
    "            sims = [similarity(answer, ans_to_letter_i[key]) for key in ans_to_letter_i.keys()]\n",
    "            max_sim_ind = np.argmax(sims)\n",
    "            answer_letter = ['A', 'B', 'C', 'D'][max_sim_ind]\n",
    "        else:\n",
    "            answer_letter = answer_letter[0]\n",
    "        synthetic_answers[int(good_questions[i])].append(answer_letter)"
   ]
  },
  {
   "cell_type": "code",
   "execution_count": null,
   "metadata": {},
   "outputs": [],
   "source": [
    "# dataset uses 1, 2, 3, 4 to represent A, B, C, D, so we need to convert the letters to numbers\n",
    "dict_letter_to_number = {'A': 1, 'B': 2, 'C': 3, 'D': 4}\n",
    "synthetic_answers_number = {}\n",
    "for i in range(len(good_questions)):\n",
    "    answers_num_i = []\n",
    "    for j in range(num_of_synthetic_answers):\n",
    "        answers_num_i.append(dict_letter_to_number[synthetic_answers[int(good_questions[i])][j]])\n",
    "    synthetic_answers_number[int(good_questions[i])] = answers_num_i"
   ]
  },
  {
   "cell_type": "code",
   "execution_count": null,
   "metadata": {},
   "outputs": [],
   "source": [
    "# calculate the correctness of the synthetic answers\n",
    "synthetic_answers_iscorrect = {}\n",
    "for i in range(len(good_questions)):\n",
    "    iscorrect_i = []\n",
    "    for j in range(num_of_synthetic_answers):\n",
    "        iscorrect_i.append(int(synthetic_answers_number[int(good_questions[i])][j] == good_questions_answer[str(int(good_questions[i]))]))\n",
    "    synthetic_answers_iscorrect[int(good_questions[i])] = iscorrect_i"
   ]
  },
  {
   "cell_type": "code",
   "execution_count": null,
   "metadata": {},
   "outputs": [],
   "source": [
    "with open('Data/EEDI/synthetic answers/iscorrect/synthetic_answers_iscorrect_4o.pkl', 'wb') as f:\n",
    "    pickle.dump(synthetic_answers_iscorrect, f)"
   ]
  },
  {
   "cell_type": "code",
   "execution_count": null,
   "metadata": {},
   "outputs": [],
   "source": []
  },
  {
   "cell_type": "code",
   "execution_count": null,
   "metadata": {},
   "outputs": [],
   "source": []
  },
  {
   "cell_type": "code",
   "execution_count": null,
   "metadata": {},
   "outputs": [],
   "source": []
  }
 ],
 "metadata": {
  "kernelspec": {
   "display_name": "base",
   "language": "python",
   "name": "python3"
  },
  "language_info": {
   "codemirror_mode": {
    "name": "ipython",
    "version": 3
   },
   "file_extension": ".py",
   "mimetype": "text/x-python",
   "name": "python",
   "nbconvert_exporter": "python",
   "pygments_lexer": "ipython3",
   "version": "3.11.4"
  }
 },
 "nbformat": 4,
 "nbformat_minor": 2
}
